{
 "cells": [
  {
   "cell_type": "code",
   "execution_count": 10,
   "metadata": {},
   "outputs": [
    {
     "data": {
      "text/plain": [
       "['d', 'c', 'b', 'a']"
      ]
     },
     "execution_count": 10,
     "metadata": {},
     "output_type": "execute_result"
    }
   ],
   "source": [
    "def function(alph):\n",
    "    return alph[::-1]\n",
    "\n",
    "alph = [\"a\", \"b\", \"c\", \"d\"]\n",
    "\n",
    "function(alph)"
   ]
  },
  {
   "cell_type": "code",
   "execution_count": 9,
   "metadata": {},
   "outputs": [
    {
     "data": {
      "text/plain": [
       "'True'"
      ]
     },
     "execution_count": 9,
     "metadata": {},
     "output_type": "execute_result"
    }
   ],
   "source": [
    "#2. Tulis sebuah fungsi yang menerima dua argumen dan mengembalikan True jika \n",
    "# nilai pertama lebih besar dari yang kedua, falsee jika kurang dari atau sama dengan yang kedua\n",
    "\n",
    "def function(a, b):\n",
    "    if a > b:\n",
    "        return(\"True\")\n",
    "    else:\n",
    "        return(\"False\")\n",
    "\n",
    "function(8, 5)"
   ]
  }
 ],
 "metadata": {
  "kernelspec": {
   "display_name": "Python 3",
   "language": "python",
   "name": "python3"
  },
  "language_info": {
   "codemirror_mode": {
    "name": "ipython",
    "version": 3
   },
   "file_extension": ".py",
   "mimetype": "text/x-python",
   "name": "python",
   "nbconvert_exporter": "python",
   "pygments_lexer": "ipython3",
   "version": "3.10.8"
  },
  "orig_nbformat": 4
 },
 "nbformat": 4,
 "nbformat_minor": 2
}
